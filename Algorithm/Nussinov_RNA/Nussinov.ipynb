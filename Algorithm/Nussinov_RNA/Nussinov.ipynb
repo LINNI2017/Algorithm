{
 "cells": [
  {
   "cell_type": "markdown",
   "metadata": {},
   "source": [
    "# RNA secondary structure prediction"
   ]
  },
  {
   "cell_type": "markdown",
   "metadata": {},
   "source": [
    "## Import packages \n",
    "## Initialize global variables"
   ]
  },
  {
   "cell_type": "code",
   "execution_count": 2,
   "metadata": {},
   "outputs": [],
   "source": [
    "import numpy as np\n",
    "import sys\n",
    "import math\n",
    "import time\n",
    "import os\n",
    "from os import listdir\n",
    "from os.path import isfile, join\n",
    "import random\n",
    "min_sepa=4 # no sharp turns"
   ]
  },
  {
   "cell_type": "markdown",
   "metadata": {},
   "source": [
    "## Check RNA pair "
   ]
  },
  {
   "cell_type": "code",
   "execution_count": 3,
   "metadata": {},
   "outputs": [],
   "source": [
    "# Input:\n",
    "# base1, base2: characters\n",
    "def check_pair(base1, base2):\n",
    "    return (base1=='A' and base2=='U') or (base1=='U' and base2=='A') or (base1=='C' and base2=='G') or (base1=='G' and base2=='C')"
   ]
  },
  {
   "cell_type": "markdown",
   "metadata": {},
   "source": [
    "## Print out results"
   ]
  },
  {
   "cell_type": "code",
   "execution_count": 4,
   "metadata": {},
   "outputs": [],
   "source": [
    "# align in both jupyter notebook and copy paste in text editor\n",
    "# Input:\n",
    "# current: RNA\n",
    "def printResult(current):\n",
    "    dp, pair, dura=nussinov(current)\n",
    "    n=len(current)\n",
    "    match=[\".\" for i in range(n)]\n",
    "    for i in pair:\n",
    "        match[min(i)]=\"(\"\n",
    "        match[max(i)]=\")\"\n",
    "    match=\"\".join(match).split()\n",
    "    current=current.split()\n",
    "    for i in current: print(*i, sep='\\t', end='')\n",
    "    print()\n",
    "    for i in match: print(*i, sep='\\t',end='')\n",
    "    print('\\nLength = ', n, \", Pairs = \", len(pair), \", Time = \", dura, \" sec\", sep='')\n",
    "    if (n < 26):\n",
    "        for line in dp:\n",
    "            print(*line, sep=\"\\t\")        \n",
    "    print()"
   ]
  },
  {
   "cell_type": "markdown",
   "metadata": {},
   "source": [
    "## Find traceback"
   ]
  },
  {
   "cell_type": "code",
   "execution_count": 5,
   "metadata": {},
   "outputs": [],
   "source": [
    "# Input:\n",
    "# i, j: indices of current location\n",
    "# dp: nussinov table\n",
    "# result: traceback pair\n",
    "# current: RNA\n",
    "def traceback(i, j, dp, result, current):              \n",
    "    if j > i:  \n",
    "        if dp[i][j] == dp[i][j-1]:\n",
    "            traceback(i, j-1, dp, result, current)\n",
    "            return\n",
    "        else:\n",
    "            for t in range(i, j-min_sepa):\n",
    "                if check_pair(current[t], current[j]):                 \n",
    "                    if t==0 and dp[i][j] == dp[t+1][j-1] + 1:\n",
    "                        result.append((t, j))\n",
    "                        traceback(t+1, j-1, dp, result, current)\n",
    "                        return\n",
    "                    elif dp[i][j] == dp[i][t-1] + dp[t+1][j-1] + 1:\n",
    "                        result.append((t, j))\n",
    "                        traceback(i, t-1, dp, result, current)\n",
    "                        traceback(t+1, j-1, dp, result, current)\n",
    "                        return"
   ]
  },
  {
   "cell_type": "markdown",
   "metadata": {},
   "source": [
    "## Implement Nussinov Algorithm"
   ]
  },
  {
   "cell_type": "code",
   "execution_count": 6,
   "metadata": {},
   "outputs": [],
   "source": [
    "# row index i increases from top to bottom\n",
    "# col index j increases from left to right\n",
    "# diagonal k from bottom left to upper right\n",
    "# use index convention of CSE417 slides\n",
    "# Input:\n",
    "# current: RNA\n",
    "def nussinov(current):\n",
    "    start=time.time()\n",
    "    n=len(current)\n",
    "    dp=np.zeros((n,n),dtype=int)\n",
    "    result=[]\n",
    "    \n",
    "    for k in range(min_sepa, n):\n",
    "        for i in range(n-k):\n",
    "            j=i+k\n",
    "            if i < j-min_sepa:\n",
    "                max_v=dp[i][j-1]\n",
    "                for t in range(i, j-min_sepa):\n",
    "                    if check_pair(current[t],current[j]):\n",
    "                        max_v=max(max_v, dp[i][t-1]+dp[t+1][j-1]+1)\n",
    "                dp[i][j]=max_v\n",
    "                dp[j][i]=dp[i][j]\n",
    "    traceback(0, n-1, dp, result, current)\n",
    "    dura=time.time()-start\n",
    "    return dp, result, dura"
   ]
  },
  {
   "cell_type": "markdown",
   "metadata": {},
   "source": [
    "## Implement Nussinov Algorithm and return separate runtimes"
   ]
  },
  {
   "cell_type": "code",
   "execution_count": 7,
   "metadata": {},
   "outputs": [],
   "source": [
    "# row index i increases from top to bottom\n",
    "# col index j increases from left to right\n",
    "# diagonal k from bottom left to upper right\n",
    "# use index convention of CSE417 slides\n",
    "# Input:\n",
    "# current: RNA\n",
    "def nussinov_clean(current):\n",
    "    start=time.time()\n",
    "    n=len(current)\n",
    "    dp=np.zeros((n,n))\n",
    "    result=[]\n",
    "    \n",
    "    for k in range(min_sepa, n):\n",
    "        for i in range(n-k):\n",
    "            j=i+k\n",
    "            if i < j-min_sepa:\n",
    "                max_v=dp[i, j-1]\n",
    "                for t in range(i, j-min_sepa):\n",
    "                    if check_pair(current[t],current[j]):\n",
    "                        max_v=max(max_v, dp[i, t-1]+dp[t+1, j-1]+1)\n",
    "                dp[i,j]=max_v\n",
    "                #dp[j][i]=dp[i][j]\n",
    "    nusE=time.time()-start\n",
    "    \n",
    "    traceS=time.time()\n",
    "    traceback(0, n-1, dp, result, current)\n",
    "    traceE=time.time()-traceS\n",
    "    \n",
    "    dura=time.time()-start\n",
    "    return [dura, nusE, traceE]"
   ]
  },
  {
   "cell_type": "markdown",
   "metadata": {},
   "source": [
    "## Small test"
   ]
  },
  {
   "cell_type": "code",
   "execution_count": 7,
   "metadata": {},
   "outputs": [],
   "source": [
    "# not align in jupyter notebook interface \n",
    "# but align after copy paste in text editor\n",
    "# Input:\n",
    "# current: RNA\n",
    "def printResult2(current):\n",
    "    dp, pair, dura=nussinov(current)\n",
    "    n=len(current)\n",
    "    match=[\".\" for i in range(n)]\n",
    "    for i in pair:\n",
    "        match[min(i)]=\"(\"\n",
    "        match[max(i)]=\")\"\n",
    "    match=\"\".join(match)\n",
    "    print(current, '\\n', match, '\\nLength = ', n, \", Pairs = \", len(pair), \", Time = \", dura, \" sec\", sep='')\n",
    "    if (n < 26):\n",
    "        for line in dp:\n",
    "            print(*line, sep=\"\\t\")        \n",
    "    print()"
   ]
  },
  {
   "cell_type": "code",
   "execution_count": 8,
   "metadata": {},
   "outputs": [
    {
     "name": "stdout",
     "output_type": "stream",
     "text": [
      "A\tG\tC\tU\tC\tA\tU\tA\tU\tG\tG\tC\n",
      ".\t(\t(\t.\t(\t.\t.\t.\t.\t)\t)\t)\n",
      "Length = 12, Pairs = 3, Time = 0.00018405914306640625 sec\n",
      "0\t0\t0\t0\t0\t0\t1\t1\t1\t1\t2\t3\n",
      "0\t0\t0\t0\t0\t0\t0\t0\t0\t1\t2\t3\n",
      "0\t0\t0\t0\t0\t0\t0\t0\t0\t1\t2\t2\n",
      "0\t0\t0\t0\t0\t0\t0\t0\t0\t1\t1\t1\n",
      "0\t0\t0\t0\t0\t0\t0\t0\t0\t1\t1\t1\n",
      "0\t0\t0\t0\t0\t0\t0\t0\t0\t0\t0\t0\n",
      "1\t0\t0\t0\t0\t0\t0\t0\t0\t0\t0\t0\n",
      "1\t0\t0\t0\t0\t0\t0\t0\t0\t0\t0\t0\n",
      "1\t0\t0\t0\t0\t0\t0\t0\t0\t0\t0\t0\n",
      "1\t1\t1\t1\t1\t0\t0\t0\t0\t0\t0\t0\n",
      "2\t2\t2\t1\t1\t0\t0\t0\t0\t0\t0\t0\n",
      "3\t3\t2\t1\t1\t0\t0\t0\t0\t0\t0\t0\n",
      "\n",
      "G\tC\tC\tC\tA\tC\tC\tU\tU\tC\tG\tA\tA\tA\tA\tG\tA\tC\tU\tG\tG\tA\tU\tG\tA\tC\tC\tA\tU\tG\tG\tG\tC\tC\tA\tU\tG\tA\tU\tU\n",
      "(\t(\t(\t(\t(\t(\t.\t(\t(\t.\t.\t.\t.\t)\t)\t)\t.\t.\t(\t(\t(\t.\t.\t.\t.\t)\t)\t)\t)\t)\t)\t)\t)\t.\t(\t.\t.\t.\t.\t)\n",
      "Length = 40, Pairs = 12, Time = 0.00757908821105957 sec\n",
      "\n",
      "G\tC\tU\tC\tC\tA\tG\tU\tG\tG\tC\tC\tU\tA\tA\tU\tG\tG\tA\tU\tA\tU\tG\tG\tC\tU\tU\tU\tG\tG\tA\tC\tU\tU\tC\tU\tA\tA\tU\tC\tC\tA\tA\tA\tG\tG\tU\tU\tG\tC\tG\tG\tG\tU\tU\tC\tG\tA\tG\tU\tC\tC\tC\tG\tU\tC\tU\tG\tG\tA\tG\tU\tA\n",
      ".\t(\t(\t(\t(\t(\t(\t.\t(\t(\t(\t(\t(\t(\t.\t.\t.\t.\t.\t)\t)\t.\t)\t)\t(\t(\t(\t(\t(\t(\t(\t.\t(\t.\t.\t.\t.\t)\t)\t)\t)\t)\t)\t)\t)\t(\t(\t.\t.\t(\t(\t.\t.\t.\t.\t)\t)\t)\t.\t.\t)\t)\t)\t.\t.\t)\t)\t)\t)\t)\t)\t.\t.\n",
      "Length = 73, Pairs = 24, Time = 0.045770883560180664 sec\n",
      "\n"
     ]
    }
   ],
   "source": [
    "printResult(\"AGCUCAUAUGGC\")\n",
    "printResult(\"GCCCACCUUCGAAAAGACUGGAUGACCAUGGGCCAUGAUU\")\n",
    "printResult(\"GCUCCAGUGGCCUAAUGGAUAUGGCUUUGGACUUCUAAUCCAAAGGUUGCGGGUUCGAGUCCCGUCUGGAGUA\")"
   ]
  },
  {
   "cell_type": "code",
   "execution_count": 9,
   "metadata": {},
   "outputs": [
    {
     "name": "stdout",
     "output_type": "stream",
     "text": [
      "AGCUCAUAUGGC\n",
      ".((.(....)))\n",
      "Length = 12, Pairs = 3, Time = 0.00016880035400390625 sec\n",
      "0\t0\t0\t0\t0\t0\t1\t1\t1\t1\t2\t3\n",
      "0\t0\t0\t0\t0\t0\t0\t0\t0\t1\t2\t3\n",
      "0\t0\t0\t0\t0\t0\t0\t0\t0\t1\t2\t2\n",
      "0\t0\t0\t0\t0\t0\t0\t0\t0\t1\t1\t1\n",
      "0\t0\t0\t0\t0\t0\t0\t0\t0\t1\t1\t1\n",
      "0\t0\t0\t0\t0\t0\t0\t0\t0\t0\t0\t0\n",
      "1\t0\t0\t0\t0\t0\t0\t0\t0\t0\t0\t0\n",
      "1\t0\t0\t0\t0\t0\t0\t0\t0\t0\t0\t0\n",
      "1\t0\t0\t0\t0\t0\t0\t0\t0\t0\t0\t0\n",
      "1\t1\t1\t1\t1\t0\t0\t0\t0\t0\t0\t0\n",
      "2\t2\t2\t1\t1\t0\t0\t0\t0\t0\t0\t0\n",
      "3\t3\t2\t1\t1\t0\t0\t0\t0\t0\t0\t0\n",
      "\n",
      "GCCCACCUUCGAAAAGACUGGAUGACCAUGGGCCAUGAUU\n",
      "((((((.((....)))..(((....)))))))).(....)\n",
      "Length = 40, Pairs = 12, Time = 0.008163213729858398 sec\n",
      "\n",
      "GCUCCAGUGGCCUAAUGGAUAUGGCUUUGGACUUCUAAUCCAAAGGUUGCGGGUUCGAGUCCCGUCUGGAGUA\n",
      ".((((((.((((((.....)).))(((((((.(....))))))))((..((....)))..)))..))))))..\n",
      "Length = 73, Pairs = 24, Time = 0.04955697059631348 sec\n",
      "\n"
     ]
    }
   ],
   "source": [
    "printResult2(\"AGCUCAUAUGGC\")\n",
    "printResult2(\"GCCCACCUUCGAAAAGACUGGAUGACCAUGGGCCAUGAUU\")\n",
    "printResult2(\"GCUCCAGUGGCCUAAUGGAUAUGGCUUUGGACUUCUAAUCCAAAGGUUGCGGGUUCGAGUCCCGUCUGGAGUA\")"
   ]
  },
  {
   "cell_type": "markdown",
   "metadata": {},
   "source": [
    "## Generate a file with random RNAs"
   ]
  },
  {
   "cell_type": "code",
   "execution_count": 8,
   "metadata": {},
   "outputs": [],
   "source": [
    "# Generate random RNA\n",
    "# Input: \n",
    "# length: length of RNA\n",
    "def rand_rna(length):\n",
    "    rna=\"\"\n",
    "    for i in range(length):\n",
    "        x = random.randint(1,4)\n",
    "        if x==1:\n",
    "            rna += \"A\"\n",
    "        elif x==2:\n",
    "            rna += \"U\"\n",
    "        elif x==3:\n",
    "            rna += \"C\"\n",
    "        else:\n",
    "            rna += \"G\"\n",
    "    return rna"
   ]
  },
  {
   "cell_type": "code",
   "execution_count": 9,
   "metadata": {},
   "outputs": [],
   "source": [
    "# Generate a file with random RNAs\n",
    "# Input:\n",
    "# each: the number of RNA of each length\n",
    "# lenLo: lower bound of power of 2\n",
    "# lenUp: upper bound of power of 2\n",
    "# out: output file name distinct suffix\n",
    "# power: 1 for RNA of discrete length of 2^k, k in [lenLo, lenUp]\n",
    "# power: 0 for RNA of continuous length between 2^lenLo and 2^lenUp\n",
    "def gen_rna(each, lenLo, lenUp, out, power):    \n",
    "    if (lenLo>lenUp):return\n",
    "    outPath = './testcase/rand_rna' + str(out) + '.txt'\n",
    "    try:\n",
    "        os.remove(outPath)\n",
    "    except OSError: pass\n",
    "        \n",
    "    outF = open(outPath,'a')\n",
    "    n=[]\n",
    "    if power:\n",
    "        for i in range(lenLo, lenUp+1):\n",
    "            for j in range(each):\n",
    "                n.append(2**i)\n",
    "    else: n=range(2**lenLo, 2**lenUp+1)\n",
    "    for i in n:\n",
    "            outF.write(rand_rna(i))\n",
    "            outF.write(\"\\n\")\n",
    "    outF.close()"
   ]
  },
  {
   "cell_type": "markdown",
   "metadata": {},
   "source": [
    "## Print out runtime of Nussinov Algorithm for different RNA"
   ]
  },
  {
   "cell_type": "code",
   "execution_count": 10,
   "metadata": {},
   "outputs": [],
   "source": [
    "# Input:\n",
    "# out: output file name distinct suffix\n",
    "def file_test(out):\n",
    "    inF = './testcase/rand_rna' + str(out) + '.txt'\n",
    "    outF = './testcase/test' + str(out) + '.txt'\n",
    "    with open(inF) as f:  \n",
    "        # create a new output file\n",
    "        try:\n",
    "            os.remove(outF)\n",
    "        except OSError:\n",
    "            pass\n",
    "        \n",
    "        # output report to a file\n",
    "        out = open(outF,'a')\n",
    "        # write a header\n",
    "        out.write(\"length\")\n",
    "        out.write(\"\\t\")\n",
    "        out.write(\"total\")\n",
    "        out.write(\"\\t\")\n",
    "        out.write(\"nus\")\n",
    "        out.write(\"\\t\")\n",
    "        out.write(\"trace\")\n",
    "        out.write(\"\\n\")\n",
    "        for line in f:\n",
    "            [dura, nusE, traceE] = nussinov_clean(line) \n",
    "            out.write(str(len(line)-1))\n",
    "            out.write(\"\\t\")\n",
    "            out.write(str(dura))\n",
    "            out.write(\"\\t\")\n",
    "            out.write(str(nusE))\n",
    "            out.write(\"\\t\")\n",
    "            out.write(str(traceE))\n",
    "            out.write(\"\\n\")\n",
    "        out.close()"
   ]
  },
  {
   "cell_type": "markdown",
   "metadata": {},
   "source": [
    "# TEST"
   ]
  },
  {
   "cell_type": "markdown",
   "metadata": {},
   "source": [
    "## RNA of length between 16 and 512"
   ]
  },
  {
   "cell_type": "code",
   "execution_count": null,
   "metadata": {},
   "outputs": [],
   "source": [
    "out =\"\".join([str(2**4),'-',str(2**9)])\n",
    "\n",
    "# Generate random RNA\n",
    "gen_rna(1, 4, 9, out, 0)\n",
    "\n",
    "# Nussinov time\n",
    "file_test(out)"
   ]
  },
  {
   "cell_type": "markdown",
   "metadata": {},
   "source": [
    "## RNA of length of 2^k, k in [4,11]"
   ]
  },
  {
   "cell_type": "code",
   "execution_count": null,
   "metadata": {},
   "outputs": [],
   "source": [
    "out=\"4-11power\"\n",
    "\n",
    "# Generate random RNA\n",
    "gen_rna(1, 4, 11, out, 1)\n",
    "\n",
    "# Nussinov time\n",
    "file_test(out)"
   ]
  },
  {
   "cell_type": "markdown",
   "metadata": {},
   "source": [
    "## RNA of length of 2^k, k in [4,12]"
   ]
  },
  {
   "cell_type": "code",
   "execution_count": null,
   "metadata": {},
   "outputs": [],
   "source": [
    "out=\"4-12power\"\n",
    "\n",
    "# Generate random RNA\n",
    "gen_rna(1, 4, 12, out, 1)\n",
    "\n",
    "# Nussinov time\n",
    "file_test(out)"
   ]
  },
  {
   "cell_type": "markdown",
   "metadata": {},
   "source": [
    "## RNA of length of 2^k, k in [4,9], 10 RNAs each length "
   ]
  },
  {
   "cell_type": "code",
   "execution_count": null,
   "metadata": {},
   "outputs": [],
   "source": [
    "out =\"4-9powerN10\"\n",
    "\n",
    "# Generate random RNA\n",
    "gen_rna(10, 4, 9, out, 1)\n",
    "\n",
    "# Nussinov time\n",
    "file_test(out)"
   ]
  },
  {
   "cell_type": "markdown",
   "metadata": {},
   "source": [
    "## Test with user type-in\n",
    "### Reference: RNA of length of 512 total runtime: 19.366272926330566 sec\n",
    "### Reference: RNA of length of 1024 total runtime: 107.21527886390686 sec\n",
    "### Reference: RNA of length of 2048 total runtime: 848.2827141284943 sec\n",
    "### Reference: RNA of length of 4096 total runtime: 7077.7931871414185 sec"
   ]
  },
  {
   "cell_type": "code",
   "execution_count": null,
   "metadata": {},
   "outputs": [],
   "source": [
    "RNA = input(\"Enter an RNA: [Press return to obtain result :)]\")\n",
    "printResult(RNA)\n",
    "# Generate random RNA\n",
    "out=\"4-9power\"\n",
    "gen_rna(1, 4, 9, out, 1)\n",
    "# Nussinov time\n",
    "file_test(out)"
   ]
  }
 ],
 "metadata": {
  "kernelspec": {
   "display_name": "Python 3",
   "language": "python",
   "name": "python3"
  },
  "language_info": {
   "codemirror_mode": {
    "name": "ipython",
    "version": 3
   },
   "file_extension": ".py",
   "mimetype": "text/x-python",
   "name": "python",
   "nbconvert_exporter": "python",
   "pygments_lexer": "ipython3",
   "version": "3.7.2"
  }
 },
 "nbformat": 4,
 "nbformat_minor": 2
}
