{
 "cells": [
  {
   "cell_type": "markdown",
   "metadata": {},
   "source": [
    "# Closest Pair of Points"
   ]
  },
  {
   "cell_type": "markdown",
   "metadata": {},
   "source": [
    "# Import packages"
   ]
  },
  {
   "cell_type": "code",
   "execution_count": 56,
   "metadata": {},
   "outputs": [],
   "source": [
    "import numpy as np\n",
    "import sys\n",
    "import math\n",
    "import time\n",
    "import os\n",
    "from os import listdir\n",
    "from os.path import isfile, join\n",
    "import random"
   ]
  },
  {
   "cell_type": "markdown",
   "metadata": {},
   "source": [
    "# Calculate the distance between two points"
   ]
  },
  {
   "cell_type": "code",
   "execution_count": 57,
   "metadata": {},
   "outputs": [],
   "source": [
    "def dist(v1,v2):   \n",
    "    if v1[0] is None or v1[1] is None or v2[0] is None or v2[1] is None:\n",
    "        print(\"Error: some x or y coordinate is null.\")\n",
    "        return float(\"inf\") \n",
    "    if v1[0]-v2[0] == 0 and v1[1]-v2[1] == 0: return 0\n",
    "    s=float((abs(v1[0]-v2[0]))**2 + abs((v1[1]-v2[1]))**2)\n",
    "    return math.sqrt(s)  "
   ]
  },
  {
   "cell_type": "markdown",
   "metadata": {},
   "source": [
    "# Remove duplicate points"
   ]
  },
  {
   "cell_type": "code",
   "execution_count": 138,
   "metadata": {},
   "outputs": [],
   "source": [
    "def noDup(P):\n",
    "    seen = []\n",
    "    for pt in P:\n",
    "        if pt not in seen:\n",
    "            seen.append(pt)\n",
    "    return seen"
   ]
  },
  {
   "cell_type": "markdown",
   "metadata": {},
   "source": [
    "# Find min distance and closest pair among points inside strip"
   ]
  },
  {
   "cell_type": "code",
   "execution_count": 58,
   "metadata": {},
   "outputs": [],
   "source": [
    "def stripP(P, minD, minCP):\n",
    "    n = len(P)\n",
    "    for i in range(0, n):\n",
    "        k = 1\n",
    "        while i+k < n and P[i+k][1] - P[i][1] < minD:\n",
    "            d = dist(P[i], P[i+k])\n",
    "            if d < minD:\n",
    "                minD = d\n",
    "                minCP = P[i], P[i+k]\n",
    "            k += 1\n",
    "    return minD, minCP"
   ]
  },
  {
   "cell_type": "markdown",
   "metadata": {},
   "source": [
    "# Generate uniformly random points in unit square output files"
   ]
  },
  {
   "cell_type": "code",
   "execution_count": 59,
   "metadata": {},
   "outputs": [],
   "source": [
    "def genUnif(numF, increN):   \n",
    "    for i in range(numF): \n",
    "        testU = './Test/randTest/uni'\n",
    "        testU += str(i)\n",
    "        testU += '.txt'              \n",
    "        try:\n",
    "            os.remove(testU)\n",
    "        except OSError:\n",
    "            pass\n",
    "        \n",
    "        testUOut = open(testU,'a')\n",
    "        \n",
    "        for j in range((i+1)*increN):\n",
    "            px = random.uniform(0, 1)\n",
    "            py = random.uniform(0, 1)\n",
    "            testUOut.write(str(px))\n",
    "            testUOut.write(\"\\t\")\n",
    "            testUOut.write(str(py))\n",
    "            testUOut.write(\"\\n\")\n",
    "        testUOut.close()"
   ]
  },
  {
   "cell_type": "markdown",
   "metadata": {},
   "source": [
    "# Generate points between (0,0) and (0,1) output files"
   ]
  },
  {
   "cell_type": "code",
   "execution_count": 60,
   "metadata": {},
   "outputs": [],
   "source": [
    "def genVer(numF, increN):    \n",
    "    for i in range(numF): \n",
    "        outPath = './Test/verTest/ver'  \n",
    "        outPath += str(i)\n",
    "        outPath += '.txt'  \n",
    "        try:\n",
    "            os.remove(outPath)\n",
    "        except OSError:\n",
    "            pass\n",
    "        \n",
    "        outF = open(outPath,'a')\n",
    "\n",
    "        for j in range((i+1)*increN):     \n",
    "            py = float(j/((i+1)*increN))\n",
    "            outF.write(str(0))\n",
    "            outF.write(\"\\t\")\n",
    "            outF.write(str(py))\n",
    "            outF.write(\"\\n\")\n",
    "        outF.close()"
   ]
  },
  {
   "cell_type": "markdown",
   "metadata": {},
   "source": [
    "# Test on a directory of tests"
   ]
  },
  {
   "cell_type": "code",
   "execution_count": 61,
   "metadata": {},
   "outputs": [],
   "source": [
    "def dirTest(path, outN, test): \n",
    "    os.chdir(path)\n",
    "    fileSet = [f for f in listdir(path) if isfile(join(path, f)) and f.startswith(test)]    \n",
    "    try:\n",
    "        os.remove(outN)\n",
    "    except OSError:\n",
    "        pass\n",
    "\n",
    "    # output report to a file\n",
    "    out = open(outN,'a')\n",
    "    # write a header\n",
    "    out.write(\"num\")\n",
    "    out.write(\"\\t\")\n",
    "    out.write(\"v1\")\n",
    "    out.write(\"\\t\")\n",
    "    out.write(\"v2\")\n",
    "    out.write(\"\\t\")\n",
    "    out.write(\"v3\")\n",
    "    out.write(\"\\t\")\n",
    "    out.write(\"\\n\")\n",
    "    out.close()\n",
    "\n",
    "    for i in fileSet:\n",
    "        P = []\n",
    "        with open(i) as f:\n",
    "            P.clear()\n",
    "            count = 0\n",
    "            PX, PY = 0, 0\n",
    "            for line in f:\n",
    "                data = line.split()\n",
    "\n",
    "                for p in data:\n",
    "                    if count % 2 == 0: \n",
    "                        PX = float(p)\n",
    "                    else: \n",
    "                        PY = float(p)\n",
    "                        P.append([PX, PY])\n",
    "                    count += 1\n",
    "\n",
    "        out = open(outN,'a')\n",
    "        out.write(str(count/2))\n",
    "        out.write('\\t')\n",
    "        resultSet = [CP1(P), CP2(P), CP3(P)]\n",
    "        for result in resultSet:\n",
    "            s = result[0]\n",
    "            out.write(str(s))\n",
    "            out.write('\\t')    \n",
    "        out.write('\\n')\n",
    "        out.close()"
   ]
  },
  {
   "cell_type": "markdown",
   "metadata": {},
   "source": [
    "# Test on a single file"
   ]
  },
  {
   "cell_type": "code",
   "execution_count": 62,
   "metadata": {},
   "outputs": [],
   "source": [
    "def fileTest(fileN, outN):\n",
    "\n",
    "    with open(fileN) as f:  \n",
    "        # create a new output file\n",
    "        try:\n",
    "            os.remove(outN)\n",
    "        except OSError:\n",
    "            pass\n",
    "\n",
    "        P = []\n",
    "        P.clear()\n",
    "        count = 0\n",
    "        PX, PY = 0, 0\n",
    "        for line in f:\n",
    "            data = line.split()\n",
    "\n",
    "            for p in data:\n",
    "                if count % 2 == 0: \n",
    "                    PX = float(p)\n",
    "                else: \n",
    "                    PY = float(p)\n",
    "                    P.append([PX, PY])\n",
    "                count += 1\n",
    "        n = str(count/2)              \n",
    "        resultSet = [CP1(P), CP2(P), CP3(P)]\n",
    "        count = 0\n",
    "        for result in resultSet:\n",
    "            count += 1\n",
    "            t = result[0]\n",
    "            d = result[1]\n",
    "            pair = []\n",
    "            if d != float(\"inf\"): pair = result[2]\n",
    "\n",
    "            # output report to a file   \n",
    "            out = open(outN,'a')\n",
    "            out.write(\"Version \")\n",
    "            out.write(str(count))\n",
    "            out.write(\":\\nNumber of pt: \")\n",
    "            out.write(str(n))\n",
    "            out.write(\"\\n\")\n",
    "            out.write(\"closest pair: \") \n",
    "            out.write(str(pair))\n",
    "            out.write(\"\\ndistance btw: \")\n",
    "            out.write(str(d))\n",
    "            out.write(\"\\ntime: \")\n",
    "            out.write(str(t))\n",
    "            out.write(\"s\\n\")\n",
    "            if (d == float(\"inf\")): out.write(\"Error: only one point, cannot find closest pair.\")\n",
    "            out.write(\"\\n\\n\")\n",
    "\n",
    "        out.close()"
   ]
  },
  {
   "cell_type": "markdown",
   "metadata": {},
   "source": [
    "# Version 1 $\\Theta(n^2)$"
   ]
  },
  {
   "cell_type": "code",
   "execution_count": 94,
   "metadata": {},
   "outputs": [],
   "source": [
    "def brute(P):\n",
    "    n=len(P)\n",
    "    minD = float(\"inf\")    \n",
    "    cpMin=[]\n",
    "    if n >= 2:\n",
    "        for i in range(0, n):\n",
    "            for j in range(i+1, n):\n",
    "                d = dist(P[i], P[j])\n",
    "                pt = [P[i], P[j]]\n",
    "                if d < minD:\n",
    "                    minD = d\n",
    "                    cpMin.clear()\n",
    "                    cpMin.append(pt)      \n",
    "    return minD, cpMin"
   ]
  },
  {
   "cell_type": "code",
   "execution_count": 142,
   "metadata": {},
   "outputs": [],
   "source": [
    "def CP1(P):\n",
    "    start = time.time()    \n",
    "    P = noDup(P)\n",
    "    n=len(P)\n",
    "    if n == 1: \n",
    "        print(\"Error: only one point, cannot find closest pair.\")\n",
    "        return time.time()-start,float(\"inf\"),[]\n",
    "    \n",
    "    result = brute(P)\n",
    "    perfT=time.time()-start\n",
    "    return perfT, result[0], result[1][0]"
   ]
  },
  {
   "cell_type": "markdown",
   "metadata": {},
   "source": [
    "# Version 2 $\\Theta(nlog^2n)$"
   ]
  },
  {
   "cell_type": "code",
   "execution_count": 140,
   "metadata": {},
   "outputs": [],
   "source": [
    "def CPHelper2(P):\n",
    "    minD=float(\"inf\")\n",
    "    minCP=[]\n",
    "    n = len(P)\n",
    "    if n <= 3: return brute(P)\n",
    "    \n",
    "    # divide points into two equal sized parts\n",
    "    mid = n // 2 \n",
    "    midX = P[mid][0]\n",
    "    PL = P[:mid]\n",
    "    PR = P[mid:]\n",
    "    \n",
    "    # find min distance of both sides\n",
    "    DL, cpL = CPHelper2(PL)\n",
    "    DR, cpR = CPHelper2(PR)\n",
    "    minD, minCP = DL, cpL\n",
    "    if DR < minD: minD, minCP = DR, cpR\n",
    "    \n",
    "    # build a strip of points within min distance of separation line    \n",
    "    # update min distance and closest pair if find a smaller min distance\n",
    "    sp = []\n",
    "    for pt in P:\n",
    "        if abs(pt[0]-midX) < minD: sp.append(pt)            \n",
    "    # sort by y\n",
    "    sp = sorted(sp, key=lambda k: k[1])     \n",
    "    return stripP(sp, minD, minCP)\n",
    "    \n",
    "def CP2(P):\n",
    "    start=time.time()\n",
    "    P = noDup(P)\n",
    "    if len(P) == 1: \n",
    "        print(\"Error: only one point, cannot find closest pair.\")\n",
    "        return time.time()-start,float(\"inf\"),[]\n",
    "    \n",
    "    # pre-sort by x\n",
    "    P = sorted(P, key=lambda k: k[0])\n",
    "    result = CPHelper2(P)  \n",
    "    perfT=time.time()-start\n",
    "    return perfT, result[0], result[1]"
   ]
  },
  {
   "cell_type": "markdown",
   "metadata": {},
   "source": [
    "# Version 3 $\\Theta(nlogn)$"
   ]
  },
  {
   "cell_type": "code",
   "execution_count": 136,
   "metadata": {},
   "outputs": [],
   "source": [
    "def CPHelper3(PX, PY):\n",
    "    n = len(PX)\n",
    "    if n <= 3: return brute(PX)\n",
    "    \n",
    "    minD=float(\"inf\")\n",
    "    minCP=[]  \n",
    "    \n",
    "    mid = n // 2\n",
    "    XL = PX[:mid]\n",
    "    XR = PX[mid:]\n",
    "    YL,YR=[],[]\n",
    "    midX=PX[mid][0]\n",
    "    \n",
    "    # divide points sort by y into two halves\n",
    "    # the split line is at middle of x\n",
    "    # assume x coordinates are distinct\n",
    "    for p in PY:\n",
    "        if p[0] < midX: YL.append(p)\n",
    "        else: YR.append(p)\n",
    "    \n",
    "    DL, cpL = CPHelper3(XL, YL)\n",
    "    DR, cpR = CPHelper3(XR, YR)\n",
    "    minD, minCP = DL, cpL\n",
    "    if DR < minD: minD, minCP = DR, cpR\n",
    "                \n",
    "    sp = []\n",
    "    for pt in PY:\n",
    "        if abs(pt[0]-midX) < minD: sp.append(pt)            \n",
    "\n",
    "    return stripP(sp, minD, minCP)\n",
    "    \n",
    "def CP3(P):\n",
    "    start=time.time()\n",
    "    P = noDup(P)\n",
    "    if len(P) == 1: \n",
    "        print(\"Error: only one point, cannot find closest pair.\")\n",
    "        return time.time()-start,float(\"inf\"),[]\n",
    "    \n",
    "    # sort by x\n",
    "    PX = sorted(P, key=lambda k: k[0])\n",
    "    # sort by y\n",
    "    PY = sorted(P, key=lambda k: k[1])\n",
    "    result = CPHelper3(PX, PY)\n",
    "    perfT=time.time()-start\n",
    "    return perfT, result[0], result[1]"
   ]
  },
  {
   "cell_type": "markdown",
   "metadata": {},
   "source": [
    "# Small test by hand input"
   ]
  },
  {
   "cell_type": "code",
   "execution_count": 139,
   "metadata": {},
   "outputs": [
    {
     "name": "stdout",
     "output_type": "stream",
     "text": [
      "v1, (4.100799560546875e-05, 0.5, [[2, 1], [2.5, 1]])\n",
      "v2, (3.695487976074219e-05, 0.5, [[[2, 1], [2.5, 1]]])\n",
      "v3, (3.504753112792969e-05, 0.5, [[[2, 1], [2.5, 1]]])\n"
     ]
    }
   ],
   "source": [
    "# small test by hand input\n",
    "v1=[0,0]\n",
    "v2=[2,1]\n",
    "v3=[1.5,22]\n",
    "v4=[2.5,1]\n",
    "v5=[3,1.2]\n",
    "P1=[v1,v2,v3,v4,v5]\n",
    "\n",
    "# V1 test\n",
    "print(\"v1,\",CP1(P1))\n",
    "\n",
    "# V2 test\n",
    "print(\"v2,\", CP2(P1))\n",
    "\n",
    "# V3 test\n",
    "print(\"v3,\", CP3(P1))"
   ]
  },
  {
   "cell_type": "markdown",
   "metadata": {},
   "source": [
    "# Large test with uniformly random input"
   ]
  },
  {
   "cell_type": "code",
   "execution_count": 143,
   "metadata": {},
   "outputs": [],
   "source": [
    "#genUnif(100, 5)\n",
    "path = './Test/randTest/'\n",
    "outN = './outRand.csv'\n",
    "test = 'uni'\n",
    "dirTest(path, outN, test)"
   ]
  },
  {
   "cell_type": "markdown",
   "metadata": {},
   "source": [
    "# Large test with points between (0,0) and (0,1)"
   ]
  },
  {
   "cell_type": "code",
   "execution_count": 132,
   "metadata": {},
   "outputs": [],
   "source": [
    "#genVer(100,5)\n",
    "path = './Test/verTest'\n",
    "outN = './outVer.csv'\n",
    "test = 'ver'\n",
    "dirTest(path, outN, test)"
   ]
  },
  {
   "cell_type": "markdown",
   "metadata": {},
   "source": [
    "# Sample turn-in tests"
   ]
  },
  {
   "cell_type": "code",
   "execution_count": 102,
   "metadata": {},
   "outputs": [
    {
     "name": "stdout",
     "output_type": "stream",
     "text": [
      "Error: only one point, cannot find closest pair.\n",
      "Error: only one point, cannot find closest pair.\n",
      "Error: only one point, cannot find closest pair.\n"
     ]
    }
   ],
   "source": [
    "fileN1 = './Test/turninTest/points-test1.txt'\n",
    "outN1 = './out-test1.txt'\n",
    "fileN2 = './Test/turninTest/points-test2.txt'\n",
    "outN2 = './out-test2.txt'\n",
    "fileN3 = './Test/turninTest/points-test3.txt'\n",
    "outN3 = './out-test3.txt'\n",
    "fileTest(fileN1, outN1)\n",
    "fileTest(fileN2, outN2)\n",
    "fileTest(fileN3, outN3)"
   ]
  }
 ],
 "metadata": {
  "kernelspec": {
   "display_name": "Python 3",
   "language": "python",
   "name": "python3"
  },
  "language_info": {
   "codemirror_mode": {
    "name": "ipython",
    "version": 3
   },
   "file_extension": ".py",
   "mimetype": "text/x-python",
   "name": "python",
   "nbconvert_exporter": "python",
   "pygments_lexer": "ipython3",
   "version": "3.7.2"
  }
 },
 "nbformat": 4,
 "nbformat_minor": 2
}
